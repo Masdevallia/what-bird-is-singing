{
 "cells": [
  {
   "cell_type": "code",
   "execution_count": null,
   "metadata": {},
   "outputs": [],
   "source": []
  },
  {
   "cell_type": "code",
   "execution_count": null,
   "metadata": {},
   "outputs": [],
   "source": []
  },
  {
   "cell_type": "code",
   "execution_count": null,
   "metadata": {},
   "outputs": [],
   "source": []
  },
  {
   "cell_type": "code",
   "execution_count": null,
   "metadata": {},
   "outputs": [],
   "source": []
  },
  {
   "cell_type": "code",
   "execution_count": null,
   "metadata": {},
   "outputs": [],
   "source": []
  },
  {
   "cell_type": "code",
   "execution_count": 1,
   "metadata": {},
   "outputs": [],
   "source": [
    "from src.audioProcessing import splitOnSilence"
   ]
  },
  {
   "cell_type": "code",
   "execution_count": 2,
   "metadata": {},
   "outputs": [],
   "source": [
    "from os import listdir\n",
    "from os.path import isfile, join"
   ]
  },
  {
   "cell_type": "code",
   "execution_count": 3,
   "metadata": {},
   "outputs": [],
   "source": [
    "import re\n",
    "import numpy as np\n",
    "import pandas as pd\n",
    "import matplotlib.pyplot as plt\n",
    "from scipy.fftpack import fft\n",
    "from librosa.feature import mfcc"
   ]
  },
  {
   "cell_type": "code",
   "execution_count": 26,
   "metadata": {},
   "outputs": [
    {
     "name": "stdout",
     "output_type": "stream",
     "text": [
      "Splitting Corvus-corax_168257.mp3: file 1 out of 464\n"
     ]
    }
   ],
   "source": [
    "windowsList = []\n",
    "mypath = './dataset/recordings/stage-1/converted'\n",
    "files = [f for f in listdir(mypath) if isfile(join(mypath, f))]\n",
    "for i,file in enumerate(files[:1]):\n",
    "    fileID = int(re.findall('[0-9]+.',file)[0][:-1])\n",
    "    species = re.findall('\\w+-\\w+_',file)[0][:-1]\n",
    "    chunks = splitOnSilence(f'{mypath}/{file}')\n",
    "    print(f'Splitting {file}: file {i+1} out of {len(files)}')\n",
    "    for chunk in chunks:\n",
    "        # Define windows with overlap:\n",
    "        windowLen = 1000\n",
    "        overlap = 500\n",
    "        if len(chunk) >= 1000:\n",
    "            for i in range(0,len(chunk),overlap):\n",
    "                if i+windowLen <= len(chunk):\n",
    "                    window = chunk[i:i+windowLen]\n",
    "                    # Get array from each window:\n",
    "                    # window = window.set_frame_rate(48000) # Así puedo cambiar la longitud del array\n",
    "                    sample = window.get_array_of_samples()\n",
    "                    # Check if window has a minimum of amplitude... (para intentar quitar las ventanas donde no hay pájaro...)\n",
    "                    if np.max(sample) > 1500:\n",
    "                        # Fourier:\n",
    "                        fft_mod = np.abs(fft(sample,512))\n",
    "                        fft_mod = fft_mod[0:len(fft_mod)//2]\n",
    "                        mels = np.mean(mfcc(y=np.array([float(e) for e in sample]), sr=len(sample), n_mfcc=128).T, axis=0)\n",
    "                        # Array of dictionaries:\n",
    "                        windowsList.append({'class':species,'id':fileID,'sound':sample,'fourier':fft_mod,'mfcc':mels})"
   ]
  },
  {
   "cell_type": "code",
   "execution_count": 27,
   "metadata": {},
   "outputs": [],
   "source": [
    "DF = pd.DataFrame(windowsList)"
   ]
  },
  {
   "cell_type": "code",
   "execution_count": 28,
   "metadata": {},
   "outputs": [
    {
     "data": {
      "text/html": [
       "<div>\n",
       "<style scoped>\n",
       "    .dataframe tbody tr th:only-of-type {\n",
       "        vertical-align: middle;\n",
       "    }\n",
       "\n",
       "    .dataframe tbody tr th {\n",
       "        vertical-align: top;\n",
       "    }\n",
       "\n",
       "    .dataframe thead th {\n",
       "        text-align: right;\n",
       "    }\n",
       "</style>\n",
       "<table border=\"1\" class=\"dataframe\">\n",
       "  <thead>\n",
       "    <tr style=\"text-align: right;\">\n",
       "      <th></th>\n",
       "      <th>class</th>\n",
       "      <th>fourier</th>\n",
       "      <th>id</th>\n",
       "      <th>mfcc</th>\n",
       "      <th>sound</th>\n",
       "    </tr>\n",
       "  </thead>\n",
       "  <tbody>\n",
       "    <tr>\n",
       "      <th>0</th>\n",
       "      <td>Corvus-corax</td>\n",
       "      <td>[9821.0, 10546.49915146246, 10580.035209731042...</td>\n",
       "      <td>168257</td>\n",
       "      <td>[599.0549, 206.31346, -58.641186, -27.265524, ...</td>\n",
       "      <td>[272, 336, 389, 430, 453, 458, 450, 432, 400, ...</td>\n",
       "    </tr>\n",
       "    <tr>\n",
       "      <th>1</th>\n",
       "      <td>Corvus-corax</td>\n",
       "      <td>[8188.0, 8943.65822945392, 12497.463709316875,...</td>\n",
       "      <td>168257</td>\n",
       "      <td>[614.64923, 219.40643, -73.49711, -26.373257, ...</td>\n",
       "      <td>[-5, -6, 3, 23, 50, 79, 109, 131, 140, 137, 12...</td>\n",
       "    </tr>\n",
       "    <tr>\n",
       "      <th>2</th>\n",
       "      <td>Corvus-corax</td>\n",
       "      <td>[23393.0, 27063.29377600895, 39150.11469883942...</td>\n",
       "      <td>168257</td>\n",
       "      <td>[610.63336, 219.55307, -74.89993, -24.576887, ...</td>\n",
       "      <td>[1714, 1625, 1473, 1262, 1003, 721, 437, 161, ...</td>\n",
       "    </tr>\n",
       "    <tr>\n",
       "      <th>3</th>\n",
       "      <td>Corvus-corax</td>\n",
       "      <td>[856.0, 2087.100699828188, 15369.105999854602,...</td>\n",
       "      <td>168257</td>\n",
       "      <td>[613.5123, 220.59056, -77.05687, -26.014338, -...</td>\n",
       "      <td>[53, 110, 155, 196, 238, 274, 299, 315, 325, 3...</td>\n",
       "    </tr>\n",
       "    <tr>\n",
       "      <th>4</th>\n",
       "      <td>Corvus-corax</td>\n",
       "      <td>[133.0, 2829.4605915980414, 8675.302062538418,...</td>\n",
       "      <td>168257</td>\n",
       "      <td>[603.2568, 216.3062, -70.78507, -23.194471, -1...</td>\n",
       "      <td>[-677, -524, -371, -226, -91, 37, 168, 299, 42...</td>\n",
       "    </tr>\n",
       "  </tbody>\n",
       "</table>\n",
       "</div>"
      ],
      "text/plain": [
       "          class                                            fourier      id  \\\n",
       "0  Corvus-corax  [9821.0, 10546.49915146246, 10580.035209731042...  168257   \n",
       "1  Corvus-corax  [8188.0, 8943.65822945392, 12497.463709316875,...  168257   \n",
       "2  Corvus-corax  [23393.0, 27063.29377600895, 39150.11469883942...  168257   \n",
       "3  Corvus-corax  [856.0, 2087.100699828188, 15369.105999854602,...  168257   \n",
       "4  Corvus-corax  [133.0, 2829.4605915980414, 8675.302062538418,...  168257   \n",
       "\n",
       "                                                mfcc  \\\n",
       "0  [599.0549, 206.31346, -58.641186, -27.265524, ...   \n",
       "1  [614.64923, 219.40643, -73.49711, -26.373257, ...   \n",
       "2  [610.63336, 219.55307, -74.89993, -24.576887, ...   \n",
       "3  [613.5123, 220.59056, -77.05687, -26.014338, -...   \n",
       "4  [603.2568, 216.3062, -70.78507, -23.194471, -1...   \n",
       "\n",
       "                                               sound  \n",
       "0  [272, 336, 389, 430, 453, 458, 450, 432, 400, ...  \n",
       "1  [-5, -6, 3, 23, 50, 79, 109, 131, 140, 137, 12...  \n",
       "2  [1714, 1625, 1473, 1262, 1003, 721, 437, 161, ...  \n",
       "3  [53, 110, 155, 196, 238, 274, 299, 315, 325, 3...  \n",
       "4  [-677, -524, -371, -226, -91, 37, 168, 299, 42...  "
      ]
     },
     "execution_count": 28,
     "metadata": {},
     "output_type": "execute_result"
    }
   ],
   "source": [
    "DF.head()"
   ]
  },
  {
   "cell_type": "code",
   "execution_count": 30,
   "metadata": {},
   "outputs": [
    {
     "data": {
      "text/plain": [
       "50"
      ]
     },
     "execution_count": 30,
     "metadata": {},
     "output_type": "execute_result"
    }
   ],
   "source": [
    "len(DF.iloc[0,3])"
   ]
  },
  {
   "cell_type": "code",
   "execution_count": 22,
   "metadata": {},
   "outputs": [],
   "source": []
  }
 ],
 "metadata": {
  "kernelspec": {
   "display_name": "Python 3",
   "language": "python",
   "name": "python3"
  },
  "language_info": {
   "codemirror_mode": {
    "name": "ipython",
    "version": 3
   },
   "file_extension": ".py",
   "mimetype": "text/x-python",
   "name": "python",
   "nbconvert_exporter": "python",
   "pygments_lexer": "ipython3",
   "version": "3.7.3"
  }
 },
 "nbformat": 4,
 "nbformat_minor": 2
}
