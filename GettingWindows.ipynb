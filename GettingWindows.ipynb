{
 "cells": [
  {
   "cell_type": "code",
   "execution_count": 1,
   "metadata": {},
   "outputs": [],
   "source": [
    "from src.audioProcessing import splitOnSilence"
   ]
  },
  {
   "cell_type": "code",
   "execution_count": 2,
   "metadata": {},
   "outputs": [],
   "source": [
    "from os import listdir\n",
    "from os.path import isfile, join"
   ]
  },
  {
   "cell_type": "code",
   "execution_count": 3,
   "metadata": {},
   "outputs": [],
   "source": [
    "import re\n",
    "import numpy as np\n",
    "import pandas as pd\n",
    "import matplotlib.pyplot as plt"
   ]
  },
  {
   "cell_type": "code",
   "execution_count": 27,
   "metadata": {},
   "outputs": [
    {
     "name": "stdout",
     "output_type": "stream",
     "text": [
      "Splitting Corvus-corax_168257.mp3: file 1 out of 464\n"
     ]
    }
   ],
   "source": [
    "windowsList = []\n",
    "mypath = './dataset/recordings/stage-1/converted'\n",
    "files = [f for f in listdir(mypath) if isfile(join(mypath, f))]\n",
    "for i,file in enumerate(files[:1]):\n",
    "    fileID = int(re.findall('[0-9]+.',file)[0][:-1])\n",
    "    species = re.findall('\\w+-\\w+_',file)[0][:-1]\n",
    "    chunks = splitOnSilence(f'{mypath}/{file}')\n",
    "    print(f'Splitting {file}: file {i+1} out of {len(files)}')\n",
    "    for chunk in chunks:\n",
    "        # Define windows with overlap:\n",
    "        windowLen = 1000\n",
    "        overlap = 500\n",
    "        if len(chunk) >= 1000:\n",
    "            for i in range(0,len(chunk),overlap):\n",
    "                if i+windowLen <= len(chunk):\n",
    "                    window = chunk[i:i+windowLen]\n",
    "                    # Get array from each window:\n",
    "                    window = window.set_frame_rate(48000) # Así puedo cambiar la longitud del array\n",
    "                    sample = window.get_array_of_samples()\n",
    "                    # Check if window has a minimum of amplitude... (para intentar quitar las ventanas donde no hay pájaro...)\n",
    "                    if np.max(sample) > 1500:\n",
    "                        # Fourier:\n",
    "                        fft_mod = np.abs(fft(sample,512))\n",
    "                        fft_mod = fft_mod[0:len(fft_mod)//2]\n",
    "                        # Array of dictionaries:\n",
    "                        windowsList.append({'class':species,'id':fileID,'sound':sample,'fourier':fft_mod,'mfcc':0})"
   ]
  },
  {
   "cell_type": "code",
   "execution_count": 28,
   "metadata": {},
   "outputs": [],
   "source": [
    "DF = pd.DataFrame(windowsList)"
   ]
  },
  {
   "cell_type": "code",
   "execution_count": 29,
   "metadata": {},
   "outputs": [
    {
     "data": {
      "text/html": [
       "<div>\n",
       "<style scoped>\n",
       "    .dataframe tbody tr th:only-of-type {\n",
       "        vertical-align: middle;\n",
       "    }\n",
       "\n",
       "    .dataframe tbody tr th {\n",
       "        vertical-align: top;\n",
       "    }\n",
       "\n",
       "    .dataframe thead th {\n",
       "        text-align: right;\n",
       "    }\n",
       "</style>\n",
       "<table border=\"1\" class=\"dataframe\">\n",
       "  <thead>\n",
       "    <tr style=\"text-align: right;\">\n",
       "      <th></th>\n",
       "      <th>class</th>\n",
       "      <th>fourier</th>\n",
       "      <th>id</th>\n",
       "      <th>mfcc</th>\n",
       "      <th>sound</th>\n",
       "    </tr>\n",
       "  </thead>\n",
       "  <tbody>\n",
       "    <tr>\n",
       "      <th>0</th>\n",
       "      <td>Corvus-corax</td>\n",
       "      <td>[4056.0, 5429.635666221412, 8618.846488201112,...</td>\n",
       "      <td>168257</td>\n",
       "      <td>0</td>\n",
       "      <td>[272, 330, 380, 420, 445, 455, 453, 442, 420, ...</td>\n",
       "    </tr>\n",
       "    <tr>\n",
       "      <th>1</th>\n",
       "      <td>Corvus-corax</td>\n",
       "      <td>[7170.0, 8602.57465157886, 16452.318372583995,...</td>\n",
       "      <td>168257</td>\n",
       "      <td>0</td>\n",
       "      <td>[-5, -6, 1, 18, 41, 67, 94, 118, 134, 139, 135...</td>\n",
       "    </tr>\n",
       "    <tr>\n",
       "      <th>2</th>\n",
       "      <td>Corvus-corax</td>\n",
       "      <td>[44345.0, 49459.83958723293, 75450.42234918126...</td>\n",
       "      <td>168257</td>\n",
       "      <td>0</td>\n",
       "      <td>[1714, 1632, 1497, 1313, 1087, 835, 575, 317, ...</td>\n",
       "    </tr>\n",
       "    <tr>\n",
       "      <th>3</th>\n",
       "      <td>Corvus-corax</td>\n",
       "      <td>[5328.0, 6216.437657063371, 12172.538232679979...</td>\n",
       "      <td>168257</td>\n",
       "      <td>0</td>\n",
       "      <td>[53, 105, 147, 186, 224, 259, 286, 305, 318, 3...</td>\n",
       "    </tr>\n",
       "    <tr>\n",
       "      <th>4</th>\n",
       "      <td>Corvus-corax</td>\n",
       "      <td>[4398.0, 4344.279161172816, 4993.564517380789,...</td>\n",
       "      <td>168257</td>\n",
       "      <td>0</td>\n",
       "      <td>[-677, -537, -396, -262, -135, -15, 104, 224, ...</td>\n",
       "    </tr>\n",
       "  </tbody>\n",
       "</table>\n",
       "</div>"
      ],
      "text/plain": [
       "          class                                            fourier      id  \\\n",
       "0  Corvus-corax  [4056.0, 5429.635666221412, 8618.846488201112,...  168257   \n",
       "1  Corvus-corax  [7170.0, 8602.57465157886, 16452.318372583995,...  168257   \n",
       "2  Corvus-corax  [44345.0, 49459.83958723293, 75450.42234918126...  168257   \n",
       "3  Corvus-corax  [5328.0, 6216.437657063371, 12172.538232679979...  168257   \n",
       "4  Corvus-corax  [4398.0, 4344.279161172816, 4993.564517380789,...  168257   \n",
       "\n",
       "   mfcc                                              sound  \n",
       "0     0  [272, 330, 380, 420, 445, 455, 453, 442, 420, ...  \n",
       "1     0  [-5, -6, 1, 18, 41, 67, 94, 118, 134, 139, 135...  \n",
       "2     0  [1714, 1632, 1497, 1313, 1087, 835, 575, 317, ...  \n",
       "3     0  [53, 105, 147, 186, 224, 259, 286, 305, 318, 3...  \n",
       "4     0  [-677, -537, -396, -262, -135, -15, 104, 224, ...  "
      ]
     },
     "execution_count": 29,
     "metadata": {},
     "output_type": "execute_result"
    }
   ],
   "source": [
    "DF.head()"
   ]
  },
  {
   "cell_type": "code",
   "execution_count": 7,
   "metadata": {},
   "outputs": [
    {
     "data": {
      "text/plain": [
       "47999"
      ]
     },
     "execution_count": 7,
     "metadata": {},
     "output_type": "execute_result"
    }
   ],
   "source": [
    "len(DF.sound[0])"
   ]
  },
  {
   "cell_type": "code",
   "execution_count": 9,
   "metadata": {},
   "outputs": [],
   "source": [
    "from scipy.fftpack import fft"
   ]
  },
  {
   "cell_type": "code",
   "execution_count": 22,
   "metadata": {},
   "outputs": [],
   "source": [
    "# %matplotlib inline\n",
    "fft_mod = np.abs(fft(sample,512))\n",
    "fft_mod = fft_mod[0:len(fft_mod)//2]\n",
    "# plt.stem(fft_mod, use_line_collection=True)\n",
    "len(fft_mod)"
   ]
  }
 ],
 "metadata": {
  "kernelspec": {
   "display_name": "Python 3",
   "language": "python",
   "name": "python3"
  },
  "language_info": {
   "codemirror_mode": {
    "name": "ipython",
    "version": 3
   },
   "file_extension": ".py",
   "mimetype": "text/x-python",
   "name": "python",
   "nbconvert_exporter": "python",
   "pygments_lexer": "ipython3",
   "version": "3.7.3"
  }
 },
 "nbformat": 4,
 "nbformat_minor": 2
}
