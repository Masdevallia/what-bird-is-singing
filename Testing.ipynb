{
 "cells": [
  {
   "cell_type": "code",
   "execution_count": 1,
   "metadata": {},
   "outputs": [],
   "source": [
    "import pandas as pd\n",
    "import numpy as np\n",
    "from sklearn.model_selection import train_test_split, GridSearchCV\n",
    "from sklearn.linear_model import LogisticRegression\n",
    "from sklearn.svm import SVC\n",
    "from sklearn.neighbors import KNeighborsClassifier\n",
    "from sklearn.ensemble import RandomForestClassifier\n",
    "from sklearn.ensemble import GradientBoostingClassifier\n",
    "from sklearn.tree import DecisionTreeClassifier\n",
    "from sklearn.metrics import accuracy_score, precision_score, recall_score\n",
    "\n",
    "featuresDf = pd.read_pickle('./dataset/featuresDF.pkl')"
   ]
  },
  {
   "cell_type": "code",
   "execution_count": 2,
   "metadata": {},
   "outputs": [
    {
     "name": "stderr",
     "output_type": "stream",
     "text": [
      "C:\\ProgramData\\Anaconda3\\lib\\site-packages\\sklearn\\linear_model\\logistic.py:947: ConvergenceWarning: lbfgs failed to converge. Increase the number of iterations.\n",
      "  \"of iterations.\", ConvergenceWarning)\n",
      "C:\\ProgramData\\Anaconda3\\lib\\site-packages\\sklearn\\metrics\\classification.py:1437: UndefinedMetricWarning: Precision is ill-defined and being set to 0.0 in labels with no predicted samples.\n",
      "  'precision', 'predicted', average, warn_for)\n"
     ]
    }
   ],
   "source": [
    "featuresDf['fourier_mfcc'] = [np.concatenate([featuresDf.fourier[i],\n",
    "                              featuresDf.mfcc[i]]) for i in range(len(featuresDf))]\n",
    "                     \n",
    "X = np.array(featuresDf['fourier_mfcc'].tolist())\n",
    "y = np.array(featuresDf['class'].tolist())\n",
    "X_train, X_test, y_train, y_test = train_test_split(X,y,train_size=0.2)\n",
    "\n",
    "# Model testing:\n",
    "models = {'LogisticRegression': LogisticRegression(solver='lbfgs',multi_class='auto',max_iter=1000),\n",
    "          'SVC': SVC(gamma='auto'),\n",
    "          'KNeighborsClassifier': KNeighborsClassifier(3),\n",
    "          'RandomForestClassifier': RandomForestClassifier(n_estimators=100),\n",
    "          'DecisionTreeClassifier': DecisionTreeClassifier(),\n",
    "          'GradientBoostingClassifier': GradientBoostingClassifier()}\n",
    "\n",
    "# Scaled:\n",
    "metrics = {}\n",
    "for modelName, model in models.items():\n",
    "    clf = model.fit(X_train, y_train)\n",
    "    y_pred = clf.predict(X_test)\n",
    "    metrics[modelName] = {'accuracy': round(accuracy_score(y_test, y_pred),2),\n",
    "                          'precision': round(precision_score(y_test, y_pred, average='weighted'),2),\n",
    "                          'recall': round(recall_score(y_test, y_pred, average='weighted'),2)}"
   ]
  },
  {
   "cell_type": "code",
   "execution_count": 3,
   "metadata": {},
   "outputs": [
    {
     "data": {
      "text/plain": [
       "{'LogisticRegression': {'accuracy': 0.58, 'precision': 0.56, 'recall': 0.58},\n",
       " 'SVC': {'accuracy': 0.51, 'precision': 0.26, 'recall': 0.51},\n",
       " 'KNeighborsClassifier': {'accuracy': 0.6, 'precision': 0.6, 'recall': 0.6},\n",
       " 'RandomForestClassifier': {'accuracy': 0.86,\n",
       "  'precision': 0.88,\n",
       "  'recall': 0.86},\n",
       " 'DecisionTreeClassifier': {'accuracy': 0.78,\n",
       "  'precision': 0.78,\n",
       "  'recall': 0.78},\n",
       " 'GradientBoostingClassifier': {'accuracy': 0.91,\n",
       "  'precision': 0.91,\n",
       "  'recall': 0.91}}"
      ]
     },
     "execution_count": 3,
     "metadata": {},
     "output_type": "execute_result"
    }
   ],
   "source": [
    "metrics"
   ]
  },
  {
   "cell_type": "code",
   "execution_count": null,
   "metadata": {},
   "outputs": [],
   "source": [
    "parameters = { \n",
    "    'n_estimators': [500, 1000],\n",
    "    'learning_rate' :[0.3]}\n",
    "gbc = GradientBoostingClassifier() \n",
    "clf = GridSearchCV(gbc, parameters, cv=3, scoring='accuracy', verbose=10, n_jobs= -1)\n",
    "clf.fit(X, y)\n",
    "print(clf.best_estimator_)\n",
    "print(clf.best_score_) \n",
    "print(clf.best_params_)"
   ]
  },
  {
   "cell_type": "code",
   "execution_count": null,
   "metadata": {},
   "outputs": [
    {
     "name": "stdout",
     "output_type": "stream",
     "text": [
      "Checking whether there is an H2O instance running at http://localhost:54321 ..... not found.\n",
      "Attempting to start a local H2O server...\n",
      "; Java HotSpot(TM) 64-Bit Server VM 18.9 (build 11.0.5+10-LTS, mixed mode)\n",
      "  Starting server from C:\\ProgramData\\Anaconda3\\lib\\site-packages\\h2o\\backend\\bin\\h2o.jar\n",
      "  Ice root: C:\\Users\\ECOLOG~1\\AppData\\Local\\Temp\\tmp6uhfyosb\n",
      "  JVM stdout: C:\\Users\\ECOLOG~1\\AppData\\Local\\Temp\\tmp6uhfyosb\\h2o_Ecología_started_from_python.out\n",
      "  JVM stderr: C:\\Users\\ECOLOG~1\\AppData\\Local\\Temp\\tmp6uhfyosb\\h2o_Ecología_started_from_python.err\n",
      "  Server is running at http://127.0.0.1:54321\n",
      "Connecting to H2O server at http://127.0.0.1:54321 ......."
     ]
    }
   ],
   "source": [
    "import h2o\n",
    "from h2o.automl import H2OAutoML\n",
    "# H2O AutoML:\n",
    "h2o.init(nthreads = -1, max_mem_size = 6)"
   ]
  },
  {
   "cell_type": "code",
   "execution_count": null,
   "metadata": {},
   "outputs": [],
   "source": [
    "hf = h2o.H2OFrame(featuresDf)"
   ]
  },
  {
   "cell_type": "code",
   "execution_count": null,
   "metadata": {},
   "outputs": [],
   "source": []
  }
 ],
 "metadata": {
  "kernelspec": {
   "display_name": "Python 3",
   "language": "python",
   "name": "python3"
  },
  "language_info": {
   "codemirror_mode": {
    "name": "ipython",
    "version": 3
   },
   "file_extension": ".py",
   "mimetype": "text/x-python",
   "name": "python",
   "nbconvert_exporter": "python",
   "pygments_lexer": "ipython3",
   "version": "3.7.3"
  }
 },
 "nbformat": 4,
 "nbformat_minor": 2
}
