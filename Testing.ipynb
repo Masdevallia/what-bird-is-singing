{
 "cells": [
  {
   "cell_type": "code",
   "execution_count": 1,
   "metadata": {},
   "outputs": [],
   "source": [
    "import pandas as pd\n",
    "import numpy as np\n",
    "from sklearn.model_selection import train_test_split, GridSearchCV\n",
    "from sklearn.linear_model import LogisticRegression\n",
    "from sklearn.svm import SVC\n",
    "from sklearn.neighbors import KNeighborsClassifier\n",
    "from sklearn.ensemble import RandomForestClassifier\n",
    "from sklearn.ensemble import GradientBoostingClassifier\n",
    "from sklearn.tree import DecisionTreeClassifier\n",
    "from sklearn.metrics import accuracy_score, precision_score, recall_score"
   ]
  },
  {
   "cell_type": "code",
   "execution_count": 2,
   "metadata": {},
   "outputs": [],
   "source": [
    "featuresDf = pd.read_pickle('./dataset/featuresDF_1_LN.pkl')\n",
    "featuresDf['fourier_mfcc'] = [np.concatenate([featuresDf.fourier[i],\n",
    "                              featuresDf.mfcc[i]]) for i in range(len(featuresDf))]"
   ]
  },
  {
   "cell_type": "code",
   "execution_count": 3,
   "metadata": {},
   "outputs": [],
   "source": [
    "X = np.array(featuresDf['fourier_mfcc'].tolist())\n",
    "y = np.array(featuresDf['class'].tolist())"
   ]
  },
  {
   "cell_type": "code",
   "execution_count": null,
   "metadata": {},
   "outputs": [
    {
     "name": "stdout",
     "output_type": "stream",
     "text": [
      "Fitting 5 folds for each of 4 candidates, totalling 20 fits\n"
     ]
    },
    {
     "name": "stderr",
     "output_type": "stream",
     "text": [
      "[Parallel(n_jobs=-1)]: Using backend LokyBackend with 4 concurrent workers.\n"
     ]
    }
   ],
   "source": [
    "# GradientBoostingClassifier GridSearchCV:\n",
    "# Default: learning_rate=0.1, n_estimators=100\n",
    "parameters = { \n",
    "    'n_estimators': [200, 400],\n",
    "    'learning_rate' :[0.1, 0.3]}\n",
    "gbc = GradientBoostingClassifier() \n",
    "clf = GridSearchCV(gbc, parameters, cv=5, scoring='accuracy', verbose=5, n_jobs= -1)\n",
    "clf.fit(X, y)\n",
    "print(clf.best_estimator_)\n",
    "print(clf.best_score_) \n",
    "print(clf.best_params_)\n",
    "# Refits an estimator using the best found parameters on the whole dataset.\n",
    "from sklearn.externals import joblib\n",
    "joblib_file = \"./models/GradientBoostingClassifier_GSCV.pkl\"\n",
    "joblib.dump(clf, joblib_file)"
   ]
  },
  {
   "cell_type": "code",
   "execution_count": null,
   "metadata": {},
   "outputs": [],
   "source": []
  }
 ],
 "metadata": {
  "kernelspec": {
   "display_name": "Python 3",
   "language": "python",
   "name": "python3"
  },
  "language_info": {
   "codemirror_mode": {
    "name": "ipython",
    "version": 3
   },
   "file_extension": ".py",
   "mimetype": "text/x-python",
   "name": "python",
   "nbconvert_exporter": "python",
   "pygments_lexer": "ipython3",
   "version": "3.7.3"
  }
 },
 "nbformat": 4,
 "nbformat_minor": 2
}
