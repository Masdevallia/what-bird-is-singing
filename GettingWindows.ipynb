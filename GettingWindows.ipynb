{
 "cells": [
  {
   "cell_type": "code",
   "execution_count": 1,
   "metadata": {},
   "outputs": [],
   "source": [
    "from src.audioProcessing import splitOnSilence"
   ]
  },
  {
   "cell_type": "code",
   "execution_count": 2,
   "metadata": {},
   "outputs": [],
   "source": [
    "from os import listdir\n",
    "from os.path import isfile, join"
   ]
  },
  {
   "cell_type": "code",
   "execution_count": 3,
   "metadata": {},
   "outputs": [],
   "source": [
    "import re"
   ]
  },
  {
   "cell_type": "code",
   "execution_count": 15,
   "metadata": {},
   "outputs": [
    {
     "data": {
      "text/plain": [
       "'./dataset/recordings/stage-1/converted/Corvus-corax_178458.mp3'"
      ]
     },
     "execution_count": 15,
     "metadata": {},
     "output_type": "execute_result"
    }
   ],
   "source": [
    "f'{mypath}/{file}'"
   ]
  },
  {
   "cell_type": "code",
   "execution_count": 14,
   "metadata": {},
   "outputs": [],
   "source": [
    "chunks = splitOnSilence(f'{mypath}/{file}')"
   ]
  },
  {
   "cell_type": "code",
   "execution_count": 4,
   "metadata": {},
   "outputs": [
    {
     "name": "stdout",
     "output_type": "stream",
     "text": [
      "Splitting Corvus-corax_168257.mp3: file 1 out of 464\n",
      "Splitting Corvus-corax_171515.mp3: file 2 out of 464\n",
      "Splitting Corvus-corax_178458.mp3: file 3 out of 464\n"
     ]
    }
   ],
   "source": [
    "mypath = './dataset/recordings/stage-1/converted'\n",
    "files = [f for f in listdir(mypath) if isfile(join(mypath, f))]\n",
    "for i,file in enumerate(files):\n",
    "    fileID = int(re.findall('[0-9]+.',file)[0][:-1])\n",
    "    chunks = splitOnSilence(f'{mypath}/{file}')\n",
    "    print(f'Splitting {file}: file {i+1} out of {len(files)}')\n",
    "    for chunk in chunks:\n",
    "        # Define windows with overlap\n",
    "        # ...\n",
    "        # For each window:      \n",
    "        sample = window.get_array_of_samples()"
   ]
  },
  {
   "cell_type": "code",
   "execution_count": null,
   "metadata": {},
   "outputs": [],
   "source": []
  }
 ],
 "metadata": {
  "kernelspec": {
   "display_name": "Python 3",
   "language": "python",
   "name": "python3"
  },
  "language_info": {
   "codemirror_mode": {
    "name": "ipython",
    "version": 3
   },
   "file_extension": ".py",
   "mimetype": "text/x-python",
   "name": "python",
   "nbconvert_exporter": "python",
   "pygments_lexer": "ipython3",
   "version": "3.7.3"
  }
 },
 "nbformat": 4,
 "nbformat_minor": 2
}
